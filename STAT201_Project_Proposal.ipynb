{
 "cells": [
  {
   "cell_type": "markdown",
   "id": "fd32bda2-0eef-43ce-9492-f76374115a45",
   "metadata": {},
   "source": [
    "# Project Proposal: Group 34"
   ]
  },
  {
   "cell_type": "code",
   "execution_count": null,
   "id": "a603eaf0-f2e2-4342-ac65-cc11862ca95f",
   "metadata": {},
   "outputs": [],
   "source": []
  }
 ],
 "metadata": {
  "kernelspec": {
   "display_name": "R",
   "language": "R",
   "name": "ir"
  },
  "language_info": {
   "codemirror_mode": "r",
   "file_extension": ".r",
   "mimetype": "text/x-r-source",
   "name": "R",
   "pygments_lexer": "r",
   "version": "4.1.2"
  }
 },
 "nbformat": 4,
 "nbformat_minor": 5
}
